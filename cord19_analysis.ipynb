{
 "cells": [
  {
   "cell_type": "markdown",
   "metadata": {},
   "source": [
    "# CORD-19 Metadata Analysis\n",
    "Author: [Lawrence Njoroge]  \n",
    "\n",
    "\n",
    "This notebook performs:\n",
    "- Data loading & exploration\n",
    "- Data cleaning & preparation\n",
    "- Data analysis & visualization\n",
    "- (Optional) Streamlit app for interactivity"
   ]
  },
  {
   "cell_type": "code",
   "execution_count": null,
   "metadata": {},
   "outputs": [],
   "source": [
    "# ---- Import required libraries ----\n",
    "import pandas as pd\n",
    "import matplotlib.pyplot as plt\n",
    "from wordcloud import WordCloud\n",
    "from collections import Counter\n",
    "import re"
   ]
  },
  {
   "cell_type": "markdown",
   "metadata": {},
   "source": [
    "## Part 1: Data Loading and Basic Exploration"
   ]
  },
  {
   "cell_type": "code",
   "execution_count": null,
   "metadata": {},
   "outputs": [],
   "source": [
    "df = pd.read_csv(\"metadata.csv\", low_memory=False)\n",
    "df.head()"
   ]
  },
  {
   "cell_type": "code",
   "execution_count": null,
   "metadata": {},
   "outputs": [],
   "source": [
    "print(\"Dataset shape:\", df.shape)\n",
    "df.info()\n",
    "df.describe()\n",
    "df.isnull().sum().head(20)"
   ]
  },
  {
   "cell_type": "markdown",
   "metadata": {},
   "source": [
    "## Part 2: Data Cleaning and Preparation"
   ]
  },
  {
   "cell_type": "code",
   "execution_count": null,
   "metadata": {},
   "outputs": [],
   "source": [
    "df_clean = df.dropna(subset=[\"title\", \"abstract\", \"publish_time\"]).copy()\n",
    "df_clean[\"publish_time\"] = pd.to_datetime(df_clean[\"publish_time\"], errors=\"coerce\")\n",
    "df_clean[\"year\"] = df_clean[\"publish_time\"].dt.year\n",
    "df_clean[\"abstract_word_count\"] = df_clean[\"abstract\"].apply(lambda x: len(str(x).split()))\n",
    "df_clean.head()"
   ]
  },
  {
   "cell_type": "markdown",
   "metadata": {},
   "source": [
    "## Part 3: Data Analysis and Visualization"
   ]
  },
  {
   "cell_type": "code",
   "execution_count": null,
   "metadata": {},
   "outputs": [],
   "source": [
    "papers_per_year = df_clean[\"year\"].value_counts().sort_index()\n",
    "plt.figure(figsize=(8,5))\n",
    "papers_per_year.plot(kind=\"line\", marker=\"o\", color=\"blue\")\n",
    "plt.title(\"Number of Publications Over Time\")\n",
    "plt.xlabel(\"Year\")\n",
    "plt.ylabel(\"Number of Papers\")\n",
    "plt.grid(True)\n",
    "plt.show()"
   ]
  },
  {
   "cell_type": "code",
   "execution_count": null,
   "metadata": {},
   "outputs": [],
   "source": [
    "top_journals = df_clean[\"journal\"].value_counts().head(10)\n",
    "plt.figure(figsize=(10,5))\n",
    "top_journals.plot(kind=\"bar\", color=\"green\")\n",
    "plt.title(\"Top 10 Journals Publishing COVID-19 Research\")\n",
    "plt.xlabel(\"Journal\")\n",
    "plt.ylabel(\"Number of Papers\")\n",
    "plt.xticks(rotation=45, ha=\"right\")\n",
    "plt.show()"
   ]
  },
  {
   "cell_type": "code",
   "execution_count": null,
   "metadata": {},
   "outputs": [],
   "source": [
    "titles_text = \" \".join(df_clean[\"title\"].dropna()).lower()\n",
    "words = re.findall(r\"\\b\\w+\\b\", titles_text)\n",
    "common_words = Counter(words).most_common(20)\n",
    "common_words"
   ]
  },
  {
   "cell_type": "code",
   "execution_count": null,
   "metadata": {},
   "outputs": [],
   "source": [
    "wordcloud = WordCloud(width=800, height=400, background_color=\"white\").generate(titles_text)\n",
    "plt.figure(figsize=(12,6))\n",
    "plt.imshow(wordcloud, interpolation=\"bilinear\")\n",
    "plt.axis(\"off\")\n",
    "plt.title(\"Word Cloud of Paper Titles\")\n",
    "plt.show()"
   ]
  },
  {
   "cell_type": "code",
   "execution_count": null,
   "metadata": {},
   "outputs": [],
   "source": [
    "plt.figure(figsize=(10,6))\n",
    "df_clean[\"source_x\"].value_counts().plot(kind=\"barh\", color=\"purple\")\n",
    "plt.title(\"Distribution of Papers by Source\")\n",
    "plt.xlabel(\"Number of Papers\")\n",
    "plt.ylabel(\"Source\")\n",
    "plt.show()"
   ]
  }
 ],
 "metadata": {
  "kernelspec": {
   "display_name": "Python 3",
   "language": "python",
   "name": "python3"
  },
  "language_info": {
   "name": "python",
   "version": "3.11"
  }
 },
 "nbformat": 4,
 "nbformat_minor": 2
}
